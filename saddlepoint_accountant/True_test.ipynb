{
 "cells": [
  {
   "cell_type": "code",
   "execution_count": 1,
   "id": "094a478d",
   "metadata": {},
   "outputs": [],
   "source": [
    "#For Truth experiments\n",
    "from truth_accountant import *"
   ]
  },
  {
   "cell_type": "code",
   "execution_count": 2,
   "id": "977b0301",
   "metadata": {},
   "outputs": [],
   "source": [
    "sigma = 2; q = mp.mpf('0.01'); comps = 3000; eps = 2; delta = 2e-12\n",
    "eps_lower = 1.2945489807461993e-12; eps_upper = 2.61624568229506e-12"
   ]
  },
  {
   "cell_type": "markdown",
   "id": "8ec488d2",
   "metadata": {},
   "source": [
    "Running with CLT bounds from saddlepoint yeilds a result, albeit a slow one:\n",
    "\n",
    "Took more than 45 minutes. Do not have time for this"
   ]
  },
  {
   "cell_type": "code",
   "execution_count": 3,
   "id": "ddd36912",
   "metadata": {},
   "outputs": [
    {
     "ename": "KeyboardInterrupt",
     "evalue": "",
     "output_type": "error",
     "traceback": [
      "\u001b[1;31m---------------------------------------------------------------------------\u001b[0m",
      "\u001b[1;31mKeyboardInterrupt\u001b[0m                         Traceback (most recent call last)",
      "File \u001b[1;32m<timed eval>:1\u001b[0m, in \u001b[0;36m<module>\u001b[1;34m\u001b[0m\n",
      "File \u001b[1;32m~\\Documents\\saddlepoint_accountant\\truth_accountant.py:67\u001b[0m, in \u001b[0;36mcompute_epsilon_mp\u001b[1;34m(sigma, q, comp, delta, a, eps_lower, eps_upper)\u001b[0m\n\u001b[0;32m     64\u001b[0m     eps_upper \u001b[38;5;241m=\u001b[39m mp\u001b[38;5;241m.\u001b[39mmpf(acc_spa\u001b[38;5;241m.\u001b[39mcompute_epsilon_moments_accountant(delta, comp))\n\u001b[0;32m     66\u001b[0m \u001b[38;5;28;01mdef\u001b[39;00m \u001b[38;5;21mfunction\u001b[39m(eps): \u001b[38;5;28;01mreturn\u001b[39;00m compute_delta_mp(sigma,q,comp,eps,a) \u001b[38;5;241m-\u001b[39m delta\n\u001b[1;32m---> 67\u001b[0m \u001b[38;5;28;01mreturn\u001b[39;00m \u001b[43mmp\u001b[49m\u001b[38;5;241;43m.\u001b[39;49m\u001b[43mfindroot\u001b[49m\u001b[43m(\u001b[49m\u001b[43mfunction\u001b[49m\u001b[43m,\u001b[49m\u001b[43m \u001b[49m\u001b[43m(\u001b[49m\u001b[43meps_lower\u001b[49m\u001b[43m,\u001b[49m\u001b[43m \u001b[49m\u001b[43meps_upper\u001b[49m\u001b[43m)\u001b[49m\u001b[43m,\u001b[49m\u001b[43m \u001b[49m\u001b[43msolver\u001b[49m\u001b[43m \u001b[49m\u001b[38;5;241;43m=\u001b[39;49m\u001b[43m \u001b[49m\u001b[38;5;124;43m'\u001b[39;49m\u001b[38;5;124;43manderson\u001b[39;49m\u001b[38;5;124;43m'\u001b[39;49m\u001b[43m)\u001b[49m\n",
      "File \u001b[1;32m~\\spa_env\\lib\\site-packages\\mpmath\\calculus\\optimization.py:969\u001b[0m, in \u001b[0;36mfindroot\u001b[1;34m(ctx, f, x0, solver, tol, verbose, verify, **kwargs)\u001b[0m\n\u001b[0;32m    967\u001b[0m     maxsteps \u001b[38;5;241m=\u001b[39m iterations\u001b[38;5;241m.\u001b[39mmaxsteps\n\u001b[0;32m    968\u001b[0m i \u001b[38;5;241m=\u001b[39m \u001b[38;5;241m0\u001b[39m\n\u001b[1;32m--> 969\u001b[0m \u001b[38;5;28;01mfor\u001b[39;00m x, error \u001b[38;5;129;01min\u001b[39;00m iterations:\n\u001b[0;32m    970\u001b[0m     \u001b[38;5;28;01mif\u001b[39;00m verbose:\n\u001b[0;32m    971\u001b[0m         \u001b[38;5;28mprint\u001b[39m(\u001b[38;5;124m'\u001b[39m\u001b[38;5;124mx:    \u001b[39m\u001b[38;5;124m'\u001b[39m, x)\n",
      "File \u001b[1;32m~\\spa_env\\lib\\site-packages\\mpmath\\calculus\\optimization.py:416\u001b[0m, in \u001b[0;36mIllinois.__iter__\u001b[1;34m(self)\u001b[0m\n\u001b[0;32m    414\u001b[0m s \u001b[38;5;241m=\u001b[39m (fb \u001b[38;5;241m-\u001b[39m fa) \u001b[38;5;241m/\u001b[39m l\n\u001b[0;32m    415\u001b[0m z \u001b[38;5;241m=\u001b[39m a \u001b[38;5;241m-\u001b[39m fa\u001b[38;5;241m/\u001b[39ms\n\u001b[1;32m--> 416\u001b[0m fz \u001b[38;5;241m=\u001b[39m \u001b[43mf\u001b[49m\u001b[43m(\u001b[49m\u001b[43mz\u001b[49m\u001b[43m)\u001b[49m\n\u001b[0;32m    417\u001b[0m \u001b[38;5;28;01mif\u001b[39;00m \u001b[38;5;28mabs\u001b[39m(fz) \u001b[38;5;241m<\u001b[39m \u001b[38;5;28mself\u001b[39m\u001b[38;5;241m.\u001b[39mtol:\n\u001b[0;32m    418\u001b[0m     \u001b[38;5;66;03m# TODO: better condition (when f is very flat)\u001b[39;00m\n\u001b[0;32m    419\u001b[0m     \u001b[38;5;28;01mif\u001b[39;00m \u001b[38;5;28mself\u001b[39m\u001b[38;5;241m.\u001b[39mverbose:\n",
      "File \u001b[1;32m~\\Documents\\saddlepoint_accountant\\truth_accountant.py:66\u001b[0m, in \u001b[0;36mcompute_epsilon_mp.<locals>.function\u001b[1;34m(eps)\u001b[0m\n\u001b[1;32m---> 66\u001b[0m \u001b[38;5;28;01mdef\u001b[39;00m \u001b[38;5;21mfunction\u001b[39m(eps): \u001b[38;5;28;01mreturn\u001b[39;00m \u001b[43mcompute_delta_mp\u001b[49m\u001b[43m(\u001b[49m\u001b[43msigma\u001b[49m\u001b[43m,\u001b[49m\u001b[43mq\u001b[49m\u001b[43m,\u001b[49m\u001b[43mcomp\u001b[49m\u001b[43m,\u001b[49m\u001b[43meps\u001b[49m\u001b[43m,\u001b[49m\u001b[43ma\u001b[49m\u001b[43m)\u001b[49m \u001b[38;5;241m-\u001b[39m delta\n",
      "File \u001b[1;32m~\\Documents\\saddlepoint_accountant\\truth_accountant.py:49\u001b[0m, in \u001b[0;36mcompute_delta_mp\u001b[1;34m(sigma, q, comp, eps, a)\u001b[0m\n\u001b[0;32m     46\u001b[0m bounds \u001b[38;5;241m=\u001b[39m (\u001b[38;5;241m-\u001b[39mmp\u001b[38;5;241m.\u001b[39minf, mp\u001b[38;5;241m.\u001b[39minf)\n\u001b[0;32m     47\u001b[0m \u001b[38;5;28;01mdef\u001b[39;00m \u001b[38;5;21mintegrand\u001b[39m(t): \u001b[38;5;28;01mreturn\u001b[39;00m mp\u001b[38;5;241m.\u001b[39mre(mp\u001b[38;5;241m.\u001b[39mexpj(\u001b[38;5;241m-\u001b[39mt\u001b[38;5;241m*\u001b[39meps) \u001b[38;5;241m*\u001b[39m \\\n\u001b[0;32m     48\u001b[0m                                mp\u001b[38;5;241m.\u001b[39mpower(mgf(t),comp) \u001b[38;5;241m*\u001b[39m g(t))\n\u001b[1;32m---> 49\u001b[0m integral, _ \u001b[38;5;241m=\u001b[39m \u001b[43mmp\u001b[49m\u001b[38;5;241;43m.\u001b[39;49m\u001b[43mquad\u001b[49m\u001b[43m(\u001b[49m\u001b[43mintegrand\u001b[49m\u001b[43m,\u001b[49m\u001b[43m \u001b[49m\u001b[43mbounds\u001b[49m\u001b[43m,\u001b[49m\u001b[43m \u001b[49m\u001b[43merror\u001b[49m\u001b[38;5;241;43m=\u001b[39;49m\u001b[43m \u001b[49m\u001b[38;5;28;43;01mTrue\u001b[39;49;00m\u001b[43m,\u001b[49m\u001b[43m \u001b[49m\u001b[43mmaxdegree\u001b[49m\u001b[43m \u001b[49m\u001b[38;5;241;43m=\u001b[39;49m\u001b[43m \u001b[49m\u001b[38;5;241;43m8\u001b[39;49m\u001b[43m)\u001b[49m\n\u001b[0;32m     50\u001b[0m \u001b[38;5;28;01mreturn\u001b[39;00m mp\u001b[38;5;241m.\u001b[39mexp(\u001b[38;5;241m-\u001b[39ma\u001b[38;5;241m*\u001b[39meps) \u001b[38;5;241m/\u001b[39m two_pi \u001b[38;5;241m*\u001b[39m integral\n",
      "File \u001b[1;32m~\\spa_env\\lib\\site-packages\\mpmath\\calculus\\quadrature.py:745\u001b[0m, in \u001b[0;36mQuadratureMethods.quad\u001b[1;34m(ctx, f, *points, **kwargs)\u001b[0m\n\u001b[0;32m    743\u001b[0m ctx\u001b[38;5;241m.\u001b[39mprec \u001b[38;5;241m+\u001b[39m\u001b[38;5;241m=\u001b[39m \u001b[38;5;241m20\u001b[39m\n\u001b[0;32m    744\u001b[0m \u001b[38;5;28;01mif\u001b[39;00m dim \u001b[38;5;241m==\u001b[39m \u001b[38;5;241m1\u001b[39m:\n\u001b[1;32m--> 745\u001b[0m     v, err \u001b[38;5;241m=\u001b[39m \u001b[43mrule\u001b[49m\u001b[38;5;241;43m.\u001b[39;49m\u001b[43msummation\u001b[49m\u001b[43m(\u001b[49m\u001b[43mf\u001b[49m\u001b[43m,\u001b[49m\u001b[43m \u001b[49m\u001b[43mpoints\u001b[49m\u001b[43m[\u001b[49m\u001b[38;5;241;43m0\u001b[39;49m\u001b[43m]\u001b[49m\u001b[43m,\u001b[49m\u001b[43m \u001b[49m\u001b[43mprec\u001b[49m\u001b[43m,\u001b[49m\u001b[43m \u001b[49m\u001b[43mepsilon\u001b[49m\u001b[43m,\u001b[49m\u001b[43m \u001b[49m\u001b[43mm\u001b[49m\u001b[43m,\u001b[49m\u001b[43m \u001b[49m\u001b[43mverbose\u001b[49m\u001b[43m)\u001b[49m\n\u001b[0;32m    746\u001b[0m \u001b[38;5;28;01melif\u001b[39;00m dim \u001b[38;5;241m==\u001b[39m \u001b[38;5;241m2\u001b[39m:\n\u001b[0;32m    747\u001b[0m     v, err \u001b[38;5;241m=\u001b[39m rule\u001b[38;5;241m.\u001b[39msummation(\u001b[38;5;28;01mlambda\u001b[39;00m x: \\\n\u001b[0;32m    748\u001b[0m             rule\u001b[38;5;241m.\u001b[39msummation(\u001b[38;5;28;01mlambda\u001b[39;00m y: f(x,y), \\\n\u001b[0;32m    749\u001b[0m             points[\u001b[38;5;241m1\u001b[39m], prec, epsilon, m)[\u001b[38;5;241m0\u001b[39m],\n\u001b[0;32m    750\u001b[0m         points[\u001b[38;5;241m0\u001b[39m], prec, epsilon, m, verbose)\n",
      "File \u001b[1;32m~\\spa_env\\lib\\site-packages\\mpmath\\calculus\\quadrature.py:233\u001b[0m, in \u001b[0;36mQuadratureRule.summation\u001b[1;34m(self, f, points, prec, epsilon, max_degree, verbose)\u001b[0m\n\u001b[0;32m    230\u001b[0m \u001b[38;5;28;01mif\u001b[39;00m verbose:\n\u001b[0;32m    231\u001b[0m     \u001b[38;5;28mprint\u001b[39m(\u001b[38;5;124m\"\u001b[39m\u001b[38;5;124mIntegrating from \u001b[39m\u001b[38;5;132;01m%s\u001b[39;00m\u001b[38;5;124m to \u001b[39m\u001b[38;5;132;01m%s\u001b[39;00m\u001b[38;5;124m (degree \u001b[39m\u001b[38;5;132;01m%s\u001b[39;00m\u001b[38;5;124m of \u001b[39m\u001b[38;5;132;01m%s\u001b[39;00m\u001b[38;5;124m)\u001b[39m\u001b[38;5;124m\"\u001b[39m \u001b[38;5;241m%\u001b[39m \\\n\u001b[0;32m    232\u001b[0m         (ctx\u001b[38;5;241m.\u001b[39mnstr(a), ctx\u001b[38;5;241m.\u001b[39mnstr(b), degree, max_degree))\n\u001b[1;32m--> 233\u001b[0m result \u001b[38;5;241m=\u001b[39m \u001b[38;5;28;43mself\u001b[39;49m\u001b[38;5;241;43m.\u001b[39;49m\u001b[43msum_next\u001b[49m\u001b[43m(\u001b[49m\u001b[43mf\u001b[49m\u001b[43m,\u001b[49m\u001b[43m \u001b[49m\u001b[43mnodes\u001b[49m\u001b[43m,\u001b[49m\u001b[43m \u001b[49m\u001b[43mdegree\u001b[49m\u001b[43m,\u001b[49m\u001b[43m \u001b[49m\u001b[43mprec\u001b[49m\u001b[43m,\u001b[49m\u001b[43m \u001b[49m\u001b[43mresults\u001b[49m\u001b[43m,\u001b[49m\u001b[43m \u001b[49m\u001b[43mverbose\u001b[49m\u001b[43m)\u001b[49m\n\u001b[0;32m    234\u001b[0m results\u001b[38;5;241m.\u001b[39mappend(result)\n\u001b[0;32m    235\u001b[0m \u001b[38;5;28;01mif\u001b[39;00m degree \u001b[38;5;241m>\u001b[39m \u001b[38;5;241m1\u001b[39m:\n",
      "File \u001b[1;32m~\\spa_env\\lib\\site-packages\\mpmath\\calculus\\quadrature.py:307\u001b[0m, in \u001b[0;36mTanhSinh.sum_next\u001b[1;34m(self, f, nodes, degree, prec, previous, verbose)\u001b[0m\n\u001b[0;32m    305\u001b[0m \u001b[38;5;28;01melse\u001b[39;00m:\n\u001b[0;32m    306\u001b[0m     S \u001b[38;5;241m=\u001b[39m \u001b[38;5;28mself\u001b[39m\u001b[38;5;241m.\u001b[39mctx\u001b[38;5;241m.\u001b[39mzero\n\u001b[1;32m--> 307\u001b[0m S \u001b[38;5;241m+\u001b[39m\u001b[38;5;241m=\u001b[39m \u001b[38;5;28;43mself\u001b[39;49m\u001b[38;5;241;43m.\u001b[39;49m\u001b[43mctx\u001b[49m\u001b[38;5;241;43m.\u001b[39;49m\u001b[43mfdot\u001b[49m\u001b[43m(\u001b[49m\u001b[43m(\u001b[49m\u001b[43mw\u001b[49m\u001b[43m,\u001b[49m\u001b[43mf\u001b[49m\u001b[43m(\u001b[49m\u001b[43mx\u001b[49m\u001b[43m)\u001b[49m\u001b[43m)\u001b[49m\u001b[43m \u001b[49m\u001b[38;5;28;43;01mfor\u001b[39;49;00m\u001b[43m \u001b[49m\u001b[43m(\u001b[49m\u001b[43mx\u001b[49m\u001b[43m,\u001b[49m\u001b[43mw\u001b[49m\u001b[43m)\u001b[49m\u001b[43m \u001b[49m\u001b[38;5;129;43;01min\u001b[39;49;00m\u001b[43m \u001b[49m\u001b[43mnodes\u001b[49m\u001b[43m)\u001b[49m\n\u001b[0;32m    308\u001b[0m \u001b[38;5;28;01mreturn\u001b[39;00m h\u001b[38;5;241m*\u001b[39mS\n",
      "File \u001b[1;32m~\\spa_env\\lib\\site-packages\\mpmath\\ctx_mp_python.py:936\u001b[0m, in \u001b[0;36mPythonMPContext.fdot\u001b[1;34m(ctx, A, B, conjugate)\u001b[0m\n\u001b[0;32m    934\u001b[0m hasattr_ \u001b[38;5;241m=\u001b[39m \u001b[38;5;28mhasattr\u001b[39m\n\u001b[0;32m    935\u001b[0m types \u001b[38;5;241m=\u001b[39m (ctx\u001b[38;5;241m.\u001b[39mmpf, ctx\u001b[38;5;241m.\u001b[39mmpc)\n\u001b[1;32m--> 936\u001b[0m \u001b[38;5;28;01mfor\u001b[39;00m a, b \u001b[38;5;129;01min\u001b[39;00m A:\n\u001b[0;32m    937\u001b[0m     \u001b[38;5;28;01mif\u001b[39;00m \u001b[38;5;28mtype\u001b[39m(a) \u001b[38;5;129;01mnot\u001b[39;00m \u001b[38;5;129;01min\u001b[39;00m types: a \u001b[38;5;241m=\u001b[39m ctx\u001b[38;5;241m.\u001b[39mconvert(a)\n\u001b[0;32m    938\u001b[0m     \u001b[38;5;28;01mif\u001b[39;00m \u001b[38;5;28mtype\u001b[39m(b) \u001b[38;5;129;01mnot\u001b[39;00m \u001b[38;5;129;01min\u001b[39;00m types: b \u001b[38;5;241m=\u001b[39m ctx\u001b[38;5;241m.\u001b[39mconvert(b)\n",
      "File \u001b[1;32m~\\spa_env\\lib\\site-packages\\mpmath\\calculus\\quadrature.py:307\u001b[0m, in \u001b[0;36m<genexpr>\u001b[1;34m(.0)\u001b[0m\n\u001b[0;32m    305\u001b[0m \u001b[38;5;28;01melse\u001b[39;00m:\n\u001b[0;32m    306\u001b[0m     S \u001b[38;5;241m=\u001b[39m \u001b[38;5;28mself\u001b[39m\u001b[38;5;241m.\u001b[39mctx\u001b[38;5;241m.\u001b[39mzero\n\u001b[1;32m--> 307\u001b[0m S \u001b[38;5;241m+\u001b[39m\u001b[38;5;241m=\u001b[39m \u001b[38;5;28mself\u001b[39m\u001b[38;5;241m.\u001b[39mctx\u001b[38;5;241m.\u001b[39mfdot((w,\u001b[43mf\u001b[49m\u001b[43m(\u001b[49m\u001b[43mx\u001b[49m\u001b[43m)\u001b[49m) \u001b[38;5;28;01mfor\u001b[39;00m (x,w) \u001b[38;5;129;01min\u001b[39;00m nodes)\n\u001b[0;32m    308\u001b[0m \u001b[38;5;28;01mreturn\u001b[39;00m h\u001b[38;5;241m*\u001b[39mS\n",
      "File \u001b[1;32m~\\spa_env\\lib\\site-packages\\mpmath\\calculus\\quadrature.py:224\u001b[0m, in \u001b[0;36mQuadratureRule.summation.<locals>.<lambda>\u001b[1;34m(x)\u001b[0m\n\u001b[0;32m    222\u001b[0m \u001b[38;5;28;01mif\u001b[39;00m (a, b) \u001b[38;5;241m==\u001b[39m (ctx\u001b[38;5;241m.\u001b[39mninf, ctx\u001b[38;5;241m.\u001b[39minf):\n\u001b[0;32m    223\u001b[0m     _f \u001b[38;5;241m=\u001b[39m f\n\u001b[1;32m--> 224\u001b[0m     f \u001b[38;5;241m=\u001b[39m \u001b[38;5;28;01mlambda\u001b[39;00m x: \u001b[43m_f\u001b[49m\u001b[43m(\u001b[49m\u001b[38;5;241;43m-\u001b[39;49m\u001b[43mx\u001b[49m\u001b[43m)\u001b[49m \u001b[38;5;241m+\u001b[39m _f(x)\n\u001b[0;32m    225\u001b[0m     a, b \u001b[38;5;241m=\u001b[39m (ctx\u001b[38;5;241m.\u001b[39mzero, ctx\u001b[38;5;241m.\u001b[39minf)\n\u001b[0;32m    226\u001b[0m results \u001b[38;5;241m=\u001b[39m []\n",
      "File \u001b[1;32m~\\Documents\\saddlepoint_accountant\\truth_accountant.py:48\u001b[0m, in \u001b[0;36mcompute_delta_mp.<locals>.integrand\u001b[1;34m(t)\u001b[0m\n\u001b[0;32m     47\u001b[0m \u001b[38;5;28;01mdef\u001b[39;00m \u001b[38;5;21mintegrand\u001b[39m(t): \u001b[38;5;28;01mreturn\u001b[39;00m mp\u001b[38;5;241m.\u001b[39mre(mp\u001b[38;5;241m.\u001b[39mexpj(\u001b[38;5;241m-\u001b[39mt\u001b[38;5;241m*\u001b[39meps) \u001b[38;5;241m*\u001b[39m \\\n\u001b[1;32m---> 48\u001b[0m                                mp\u001b[38;5;241m.\u001b[39mpower(\u001b[43mmgf\u001b[49m\u001b[43m(\u001b[49m\u001b[43mt\u001b[49m\u001b[43m)\u001b[49m,comp) \u001b[38;5;241m*\u001b[39m g(t))\n",
      "File \u001b[1;32m~\\Documents\\saddlepoint_accountant\\truth_accountant.py:42\u001b[0m, in \u001b[0;36mcompute_delta_mp.<locals>.mgf\u001b[1;34m(t)\u001b[0m\n\u001b[1;32m---> 42\u001b[0m \u001b[38;5;28;01mdef\u001b[39;00m \u001b[38;5;21mmgf\u001b[39m(t): \u001b[38;5;28;01mreturn\u001b[39;00m \u001b[43mcompute_MGF\u001b[49m\u001b[43m(\u001b[49m\u001b[43msigma\u001b[49m\u001b[43m,\u001b[49m\u001b[43mq\u001b[49m\u001b[43m,\u001b[49m\u001b[43m \u001b[49m\u001b[43mmp\u001b[49m\u001b[38;5;241;43m.\u001b[39;49m\u001b[43mmpc\u001b[49m\u001b[43m(\u001b[49m\u001b[43ma\u001b[49m\u001b[43m,\u001b[49m\u001b[43mt\u001b[49m\u001b[43m)\u001b[49m\u001b[43m)\u001b[49m\n",
      "File \u001b[1;32m~\\Documents\\saddlepoint_accountant\\truth_accountant.py:33\u001b[0m, in \u001b[0;36mcompute_MGF\u001b[1;34m(sigma, q, t)\u001b[0m\n\u001b[0;32m     27\u001b[0m \u001b[38;5;28;01mdef\u001b[39;00m \u001b[38;5;21mcompute_MGF\u001b[39m(sigma, q, t):\n\u001b[0;32m     28\u001b[0m     \u001b[38;5;124;03m\"\"\"\u001b[39;00m\n\u001b[0;32m     29\u001b[0m \u001b[38;5;124;03m    Add 1 to arugment of to make _compute_a_mp equivalent\u001b[39;00m\n\u001b[0;32m     30\u001b[0m \u001b[38;5;124;03m    to the momwnt generating function integral as defined in\u001b[39;00m\n\u001b[0;32m     31\u001b[0m \u001b[38;5;124;03m    this work.\u001b[39;00m\n\u001b[0;32m     32\u001b[0m \u001b[38;5;124;03m    \"\"\"\u001b[39;00m\n\u001b[1;32m---> 33\u001b[0m     \u001b[38;5;28;01mreturn\u001b[39;00m \u001b[43m_compute_a_mp\u001b[49m\u001b[43m(\u001b[49m\u001b[43msigma\u001b[49m\u001b[43m,\u001b[49m\u001b[43mq\u001b[49m\u001b[43m,\u001b[49m\u001b[43m \u001b[49m\u001b[43mt\u001b[49m\u001b[43m \u001b[49m\u001b[38;5;241;43m+\u001b[39;49m\u001b[43m \u001b[49m\u001b[38;5;241;43m1\u001b[39;49m\u001b[43m)\u001b[49m\n",
      "File \u001b[1;32m~\\Documents\\saddlepoint_accountant\\truth_accountant.py:23\u001b[0m, in \u001b[0;36m_compute_a_mp\u001b[1;34m(sigma, q, alpha)\u001b[0m\n\u001b[0;32m     20\u001b[0m   \u001b[38;5;28;01mreturn\u001b[39;00m mu0(z) \u001b[38;5;241m*\u001b[39m _mu_over_mu0(z, q, sigma)\u001b[38;5;241m*\u001b[39m\u001b[38;5;241m*\u001b[39malpha\n\u001b[0;32m     22\u001b[0m bounds \u001b[38;5;241m=\u001b[39m (\u001b[38;5;241m-\u001b[39mmp\u001b[38;5;241m.\u001b[39minf, mp\u001b[38;5;241m.\u001b[39minf)\n\u001b[1;32m---> 23\u001b[0m a_alpha, _ \u001b[38;5;241m=\u001b[39m \u001b[43mmp\u001b[49m\u001b[38;5;241;43m.\u001b[39;49m\u001b[43mquad\u001b[49m\u001b[43m(\u001b[49m\u001b[43ma_alpha_fn\u001b[49m\u001b[43m,\u001b[49m\u001b[43m \u001b[49m\u001b[43mbounds\u001b[49m\u001b[43m,\u001b[49m\u001b[43m \u001b[49m\u001b[43merror\u001b[49m\u001b[38;5;241;43m=\u001b[39;49m\u001b[38;5;28;43;01mTrue\u001b[39;49;00m\u001b[43m,\u001b[49m\u001b[43m \u001b[49m\u001b[43mmaxdegree\u001b[49m\u001b[38;5;241;43m=\u001b[39;49m\u001b[38;5;241;43m8\u001b[39;49m\u001b[43m)\u001b[49m\n\u001b[0;32m     24\u001b[0m \u001b[38;5;28;01mreturn\u001b[39;00m a_alpha\n",
      "File \u001b[1;32m~\\spa_env\\lib\\site-packages\\mpmath\\calculus\\quadrature.py:745\u001b[0m, in \u001b[0;36mQuadratureMethods.quad\u001b[1;34m(ctx, f, *points, **kwargs)\u001b[0m\n\u001b[0;32m    743\u001b[0m ctx\u001b[38;5;241m.\u001b[39mprec \u001b[38;5;241m+\u001b[39m\u001b[38;5;241m=\u001b[39m \u001b[38;5;241m20\u001b[39m\n\u001b[0;32m    744\u001b[0m \u001b[38;5;28;01mif\u001b[39;00m dim \u001b[38;5;241m==\u001b[39m \u001b[38;5;241m1\u001b[39m:\n\u001b[1;32m--> 745\u001b[0m     v, err \u001b[38;5;241m=\u001b[39m \u001b[43mrule\u001b[49m\u001b[38;5;241;43m.\u001b[39;49m\u001b[43msummation\u001b[49m\u001b[43m(\u001b[49m\u001b[43mf\u001b[49m\u001b[43m,\u001b[49m\u001b[43m \u001b[49m\u001b[43mpoints\u001b[49m\u001b[43m[\u001b[49m\u001b[38;5;241;43m0\u001b[39;49m\u001b[43m]\u001b[49m\u001b[43m,\u001b[49m\u001b[43m \u001b[49m\u001b[43mprec\u001b[49m\u001b[43m,\u001b[49m\u001b[43m \u001b[49m\u001b[43mepsilon\u001b[49m\u001b[43m,\u001b[49m\u001b[43m \u001b[49m\u001b[43mm\u001b[49m\u001b[43m,\u001b[49m\u001b[43m \u001b[49m\u001b[43mverbose\u001b[49m\u001b[43m)\u001b[49m\n\u001b[0;32m    746\u001b[0m \u001b[38;5;28;01melif\u001b[39;00m dim \u001b[38;5;241m==\u001b[39m \u001b[38;5;241m2\u001b[39m:\n\u001b[0;32m    747\u001b[0m     v, err \u001b[38;5;241m=\u001b[39m rule\u001b[38;5;241m.\u001b[39msummation(\u001b[38;5;28;01mlambda\u001b[39;00m x: \\\n\u001b[0;32m    748\u001b[0m             rule\u001b[38;5;241m.\u001b[39msummation(\u001b[38;5;28;01mlambda\u001b[39;00m y: f(x,y), \\\n\u001b[0;32m    749\u001b[0m             points[\u001b[38;5;241m1\u001b[39m], prec, epsilon, m)[\u001b[38;5;241m0\u001b[39m],\n\u001b[0;32m    750\u001b[0m         points[\u001b[38;5;241m0\u001b[39m], prec, epsilon, m, verbose)\n",
      "File \u001b[1;32m~\\spa_env\\lib\\site-packages\\mpmath\\calculus\\quadrature.py:233\u001b[0m, in \u001b[0;36mQuadratureRule.summation\u001b[1;34m(self, f, points, prec, epsilon, max_degree, verbose)\u001b[0m\n\u001b[0;32m    230\u001b[0m \u001b[38;5;28;01mif\u001b[39;00m verbose:\n\u001b[0;32m    231\u001b[0m     \u001b[38;5;28mprint\u001b[39m(\u001b[38;5;124m\"\u001b[39m\u001b[38;5;124mIntegrating from \u001b[39m\u001b[38;5;132;01m%s\u001b[39;00m\u001b[38;5;124m to \u001b[39m\u001b[38;5;132;01m%s\u001b[39;00m\u001b[38;5;124m (degree \u001b[39m\u001b[38;5;132;01m%s\u001b[39;00m\u001b[38;5;124m of \u001b[39m\u001b[38;5;132;01m%s\u001b[39;00m\u001b[38;5;124m)\u001b[39m\u001b[38;5;124m\"\u001b[39m \u001b[38;5;241m%\u001b[39m \\\n\u001b[0;32m    232\u001b[0m         (ctx\u001b[38;5;241m.\u001b[39mnstr(a), ctx\u001b[38;5;241m.\u001b[39mnstr(b), degree, max_degree))\n\u001b[1;32m--> 233\u001b[0m result \u001b[38;5;241m=\u001b[39m \u001b[38;5;28;43mself\u001b[39;49m\u001b[38;5;241;43m.\u001b[39;49m\u001b[43msum_next\u001b[49m\u001b[43m(\u001b[49m\u001b[43mf\u001b[49m\u001b[43m,\u001b[49m\u001b[43m \u001b[49m\u001b[43mnodes\u001b[49m\u001b[43m,\u001b[49m\u001b[43m \u001b[49m\u001b[43mdegree\u001b[49m\u001b[43m,\u001b[49m\u001b[43m \u001b[49m\u001b[43mprec\u001b[49m\u001b[43m,\u001b[49m\u001b[43m \u001b[49m\u001b[43mresults\u001b[49m\u001b[43m,\u001b[49m\u001b[43m \u001b[49m\u001b[43mverbose\u001b[49m\u001b[43m)\u001b[49m\n\u001b[0;32m    234\u001b[0m results\u001b[38;5;241m.\u001b[39mappend(result)\n\u001b[0;32m    235\u001b[0m \u001b[38;5;28;01mif\u001b[39;00m degree \u001b[38;5;241m>\u001b[39m \u001b[38;5;241m1\u001b[39m:\n",
      "File \u001b[1;32m~\\spa_env\\lib\\site-packages\\mpmath\\calculus\\quadrature.py:307\u001b[0m, in \u001b[0;36mTanhSinh.sum_next\u001b[1;34m(self, f, nodes, degree, prec, previous, verbose)\u001b[0m\n\u001b[0;32m    305\u001b[0m \u001b[38;5;28;01melse\u001b[39;00m:\n\u001b[0;32m    306\u001b[0m     S \u001b[38;5;241m=\u001b[39m \u001b[38;5;28mself\u001b[39m\u001b[38;5;241m.\u001b[39mctx\u001b[38;5;241m.\u001b[39mzero\n\u001b[1;32m--> 307\u001b[0m S \u001b[38;5;241m+\u001b[39m\u001b[38;5;241m=\u001b[39m \u001b[38;5;28;43mself\u001b[39;49m\u001b[38;5;241;43m.\u001b[39;49m\u001b[43mctx\u001b[49m\u001b[38;5;241;43m.\u001b[39;49m\u001b[43mfdot\u001b[49m\u001b[43m(\u001b[49m\u001b[43m(\u001b[49m\u001b[43mw\u001b[49m\u001b[43m,\u001b[49m\u001b[43mf\u001b[49m\u001b[43m(\u001b[49m\u001b[43mx\u001b[49m\u001b[43m)\u001b[49m\u001b[43m)\u001b[49m\u001b[43m \u001b[49m\u001b[38;5;28;43;01mfor\u001b[39;49;00m\u001b[43m \u001b[49m\u001b[43m(\u001b[49m\u001b[43mx\u001b[49m\u001b[43m,\u001b[49m\u001b[43mw\u001b[49m\u001b[43m)\u001b[49m\u001b[43m \u001b[49m\u001b[38;5;129;43;01min\u001b[39;49;00m\u001b[43m \u001b[49m\u001b[43mnodes\u001b[49m\u001b[43m)\u001b[49m\n\u001b[0;32m    308\u001b[0m \u001b[38;5;28;01mreturn\u001b[39;00m h\u001b[38;5;241m*\u001b[39mS\n",
      "File \u001b[1;32m~\\spa_env\\lib\\site-packages\\mpmath\\ctx_mp_python.py:936\u001b[0m, in \u001b[0;36mPythonMPContext.fdot\u001b[1;34m(ctx, A, B, conjugate)\u001b[0m\n\u001b[0;32m    934\u001b[0m hasattr_ \u001b[38;5;241m=\u001b[39m \u001b[38;5;28mhasattr\u001b[39m\n\u001b[0;32m    935\u001b[0m types \u001b[38;5;241m=\u001b[39m (ctx\u001b[38;5;241m.\u001b[39mmpf, ctx\u001b[38;5;241m.\u001b[39mmpc)\n\u001b[1;32m--> 936\u001b[0m \u001b[38;5;28;01mfor\u001b[39;00m a, b \u001b[38;5;129;01min\u001b[39;00m A:\n\u001b[0;32m    937\u001b[0m     \u001b[38;5;28;01mif\u001b[39;00m \u001b[38;5;28mtype\u001b[39m(a) \u001b[38;5;129;01mnot\u001b[39;00m \u001b[38;5;129;01min\u001b[39;00m types: a \u001b[38;5;241m=\u001b[39m ctx\u001b[38;5;241m.\u001b[39mconvert(a)\n\u001b[0;32m    938\u001b[0m     \u001b[38;5;28;01mif\u001b[39;00m \u001b[38;5;28mtype\u001b[39m(b) \u001b[38;5;129;01mnot\u001b[39;00m \u001b[38;5;129;01min\u001b[39;00m types: b \u001b[38;5;241m=\u001b[39m ctx\u001b[38;5;241m.\u001b[39mconvert(b)\n",
      "File \u001b[1;32m~\\spa_env\\lib\\site-packages\\mpmath\\calculus\\quadrature.py:307\u001b[0m, in \u001b[0;36m<genexpr>\u001b[1;34m(.0)\u001b[0m\n\u001b[0;32m    305\u001b[0m \u001b[38;5;28;01melse\u001b[39;00m:\n\u001b[0;32m    306\u001b[0m     S \u001b[38;5;241m=\u001b[39m \u001b[38;5;28mself\u001b[39m\u001b[38;5;241m.\u001b[39mctx\u001b[38;5;241m.\u001b[39mzero\n\u001b[1;32m--> 307\u001b[0m S \u001b[38;5;241m+\u001b[39m\u001b[38;5;241m=\u001b[39m \u001b[38;5;28mself\u001b[39m\u001b[38;5;241m.\u001b[39mctx\u001b[38;5;241m.\u001b[39mfdot((w,\u001b[43mf\u001b[49m\u001b[43m(\u001b[49m\u001b[43mx\u001b[49m\u001b[43m)\u001b[49m) \u001b[38;5;28;01mfor\u001b[39;00m (x,w) \u001b[38;5;129;01min\u001b[39;00m nodes)\n\u001b[0;32m    308\u001b[0m \u001b[38;5;28;01mreturn\u001b[39;00m h\u001b[38;5;241m*\u001b[39mS\n",
      "File \u001b[1;32m~\\spa_env\\lib\\site-packages\\mpmath\\calculus\\quadrature.py:224\u001b[0m, in \u001b[0;36mQuadratureRule.summation.<locals>.<lambda>\u001b[1;34m(x)\u001b[0m\n\u001b[0;32m    222\u001b[0m \u001b[38;5;28;01mif\u001b[39;00m (a, b) \u001b[38;5;241m==\u001b[39m (ctx\u001b[38;5;241m.\u001b[39mninf, ctx\u001b[38;5;241m.\u001b[39minf):\n\u001b[0;32m    223\u001b[0m     _f \u001b[38;5;241m=\u001b[39m f\n\u001b[1;32m--> 224\u001b[0m     f \u001b[38;5;241m=\u001b[39m \u001b[38;5;28;01mlambda\u001b[39;00m x: _f(\u001b[38;5;241m-\u001b[39mx) \u001b[38;5;241m+\u001b[39m \u001b[43m_f\u001b[49m\u001b[43m(\u001b[49m\u001b[43mx\u001b[49m\u001b[43m)\u001b[49m\n\u001b[0;32m    225\u001b[0m     a, b \u001b[38;5;241m=\u001b[39m (ctx\u001b[38;5;241m.\u001b[39mzero, ctx\u001b[38;5;241m.\u001b[39minf)\n\u001b[0;32m    226\u001b[0m results \u001b[38;5;241m=\u001b[39m []\n",
      "File \u001b[1;32m~\\Documents\\saddlepoint_accountant\\truth_accountant.py:20\u001b[0m, in \u001b[0;36m_compute_a_mp.<locals>.a_alpha_fn\u001b[1;34m(z)\u001b[0m\n\u001b[0;32m     19\u001b[0m \u001b[38;5;28;01mdef\u001b[39;00m \u001b[38;5;21ma_alpha_fn\u001b[39m(z):\n\u001b[1;32m---> 20\u001b[0m   \u001b[38;5;28;01mreturn\u001b[39;00m \u001b[43mmu0\u001b[49m\u001b[43m(\u001b[49m\u001b[43mz\u001b[49m\u001b[43m)\u001b[49m \u001b[38;5;241m*\u001b[39m _mu_over_mu0(z, q, sigma)\u001b[38;5;241m*\u001b[39m\u001b[38;5;241m*\u001b[39malpha\n",
      "File \u001b[1;32m~\\Documents\\saddlepoint_accountant\\truth_accountant.py:14\u001b[0m, in \u001b[0;36m_compute_a_mp.<locals>.mu0\u001b[1;34m(x)\u001b[0m\n\u001b[0;32m     13\u001b[0m \u001b[38;5;28;01mdef\u001b[39;00m \u001b[38;5;21mmu0\u001b[39m(x):\n\u001b[1;32m---> 14\u001b[0m   \u001b[38;5;28;01mreturn\u001b[39;00m \u001b[43mmp\u001b[49m\u001b[38;5;241;43m.\u001b[39;49m\u001b[43mnpdf\u001b[49m\u001b[43m(\u001b[49m\u001b[43mx\u001b[49m\u001b[43m,\u001b[49m\u001b[43m \u001b[49m\u001b[43mmu\u001b[49m\u001b[38;5;241;43m=\u001b[39;49m\u001b[38;5;241;43m0\u001b[39;49m\u001b[43m,\u001b[49m\u001b[43m \u001b[49m\u001b[43msigma\u001b[49m\u001b[38;5;241;43m=\u001b[39;49m\u001b[43msigma\u001b[49m\u001b[43m)\u001b[49m\n",
      "File \u001b[1;32m~\\spa_env\\lib\\site-packages\\mpmath\\ctx_mp_python.py:1021\u001b[0m, in \u001b[0;36mPythonMPContext._wrap_specfun.<locals>.f_wrapped\u001b[1;34m(ctx, *args, **kwargs)\u001b[0m\n\u001b[0;32m   1019\u001b[0m \u001b[38;5;28;01mtry\u001b[39;00m:\n\u001b[0;32m   1020\u001b[0m     ctx\u001b[38;5;241m.\u001b[39mprec \u001b[38;5;241m+\u001b[39m\u001b[38;5;241m=\u001b[39m \u001b[38;5;241m10\u001b[39m\n\u001b[1;32m-> 1021\u001b[0m     retval \u001b[38;5;241m=\u001b[39m f(ctx, \u001b[38;5;241m*\u001b[39margs, \u001b[38;5;241m*\u001b[39m\u001b[38;5;241m*\u001b[39mkwargs)\n\u001b[0;32m   1022\u001b[0m \u001b[38;5;28;01mfinally\u001b[39;00m:\n\u001b[0;32m   1023\u001b[0m     ctx\u001b[38;5;241m.\u001b[39mprec \u001b[38;5;241m=\u001b[39m prec\n",
      "File \u001b[1;32m~\\spa_env\\lib\\site-packages\\mpmath\\functions\\expintegrals.py:98\u001b[0m, in \u001b[0;36mnpdf\u001b[1;34m(ctx, x, mu, sigma)\u001b[0m\n\u001b[0;32m     95\u001b[0m \u001b[38;5;129m@defun_wrapped\u001b[39m\n\u001b[0;32m     96\u001b[0m \u001b[38;5;28;01mdef\u001b[39;00m \u001b[38;5;21mnpdf\u001b[39m(ctx, x, mu\u001b[38;5;241m=\u001b[39m\u001b[38;5;241m0\u001b[39m, sigma\u001b[38;5;241m=\u001b[39m\u001b[38;5;241m1\u001b[39m):\n\u001b[0;32m     97\u001b[0m     sigma \u001b[38;5;241m=\u001b[39m ctx\u001b[38;5;241m.\u001b[39mconvert(sigma)\n\u001b[1;32m---> 98\u001b[0m     \u001b[38;5;28;01mreturn\u001b[39;00m \u001b[43mctx\u001b[49m\u001b[38;5;241;43m.\u001b[39;49m\u001b[43mexp\u001b[49m\u001b[43m(\u001b[49m\u001b[38;5;241;43m-\u001b[39;49m\u001b[43m(\u001b[49m\u001b[43mx\u001b[49m\u001b[38;5;241;43m-\u001b[39;49m\u001b[43mmu\u001b[49m\u001b[43m)\u001b[49m\u001b[38;5;241;43m*\u001b[39;49m\u001b[38;5;241;43m*\u001b[39;49m\u001b[38;5;241;43m2\u001b[39;49m\u001b[38;5;241;43m/\u001b[39;49m\u001b[43m(\u001b[49m\u001b[38;5;241;43m2\u001b[39;49m\u001b[38;5;241;43m*\u001b[39;49m\u001b[43msigma\u001b[49m\u001b[38;5;241;43m*\u001b[39;49m\u001b[38;5;241;43m*\u001b[39;49m\u001b[38;5;241;43m2\u001b[39;49m\u001b[43m)\u001b[49m\u001b[43m)\u001b[49m \u001b[38;5;241m/\u001b[39m (sigma\u001b[38;5;241m*\u001b[39mctx\u001b[38;5;241m.\u001b[39msqrt(\u001b[38;5;241m2\u001b[39m\u001b[38;5;241m*\u001b[39mctx\u001b[38;5;241m.\u001b[39mpi))\n",
      "File \u001b[1;32m~\\spa_env\\lib\\site-packages\\mpmath\\ctx_mp_python.py:998\u001b[0m, in \u001b[0;36mPythonMPContext._wrap_libmp_function.<locals>.f\u001b[1;34m(x, **kwargs)\u001b[0m\n\u001b[0;32m    996\u001b[0m \u001b[38;5;28;01mif\u001b[39;00m \u001b[38;5;28mhasattr\u001b[39m(x, \u001b[38;5;124m'\u001b[39m\u001b[38;5;124m_mpf_\u001b[39m\u001b[38;5;124m'\u001b[39m):\n\u001b[0;32m    997\u001b[0m     \u001b[38;5;28;01mtry\u001b[39;00m:\n\u001b[1;32m--> 998\u001b[0m         \u001b[38;5;28;01mreturn\u001b[39;00m ctx\u001b[38;5;241m.\u001b[39mmake_mpf(\u001b[43mmpf_f\u001b[49m\u001b[43m(\u001b[49m\u001b[43mx\u001b[49m\u001b[38;5;241;43m.\u001b[39;49m\u001b[43m_mpf_\u001b[49m\u001b[43m,\u001b[49m\u001b[43m \u001b[49m\u001b[43mprec\u001b[49m\u001b[43m,\u001b[49m\u001b[43m \u001b[49m\u001b[43mrounding\u001b[49m\u001b[43m)\u001b[49m)\n\u001b[0;32m    999\u001b[0m     \u001b[38;5;28;01mexcept\u001b[39;00m ComplexResult:\n\u001b[0;32m   1000\u001b[0m         \u001b[38;5;66;03m# Handle propagation to complex\u001b[39;00m\n\u001b[0;32m   1001\u001b[0m         \u001b[38;5;28;01mif\u001b[39;00m ctx\u001b[38;5;241m.\u001b[39mtrap_complex:\n",
      "File \u001b[1;32m~\\spa_env\\lib\\site-packages\\mpmath\\libmp\\libelefun.py:1187\u001b[0m, in \u001b[0;36mmpf_exp\u001b[1;34m(x, prec, rnd)\u001b[0m\n\u001b[0;32m   1185\u001b[0m             t \u001b[38;5;241m=\u001b[39m man \u001b[38;5;241m>>\u001b[39m (\u001b[38;5;241m-\u001b[39moffset)\n\u001b[0;32m   1186\u001b[0m         n \u001b[38;5;241m=\u001b[39m \u001b[38;5;241m0\u001b[39m\n\u001b[1;32m-> 1187\u001b[0m     man \u001b[38;5;241m=\u001b[39m \u001b[43mexp_basecase\u001b[49m\u001b[43m(\u001b[49m\u001b[43mt\u001b[49m\u001b[43m,\u001b[49m\u001b[43m \u001b[49m\u001b[43mwp\u001b[49m\u001b[43m)\u001b[49m\n\u001b[0;32m   1188\u001b[0m     \u001b[38;5;28;01mreturn\u001b[39;00m from_man_exp(man, n\u001b[38;5;241m-\u001b[39mwp, prec, rnd)\n\u001b[0;32m   1189\u001b[0m \u001b[38;5;28;01mif\u001b[39;00m \u001b[38;5;129;01mnot\u001b[39;00m exp:\n",
      "File \u001b[1;32m~\\spa_env\\lib\\site-packages\\mpmath\\libmp\\libelefun.py:1086\u001b[0m, in \u001b[0;36mexp_basecase\u001b[1;34m(x, prec)\u001b[0m\n\u001b[0;32m   1083\u001b[0m             s \u001b[38;5;241m=\u001b[39m \u001b[38;5;241m-\u001b[39ms\n\u001b[0;32m   1084\u001b[0m         \u001b[38;5;28;01mreturn\u001b[39;00m (c\u001b[38;5;241m>>\u001b[39mextra), (s\u001b[38;5;241m>>\u001b[39mextra)\n\u001b[1;32m-> 1086\u001b[0m \u001b[38;5;28;01mdef\u001b[39;00m \u001b[38;5;21mexp_basecase\u001b[39m(x, prec):\n\u001b[0;32m   1087\u001b[0m     \u001b[38;5;124;03m\"\"\"\u001b[39;00m\n\u001b[0;32m   1088\u001b[0m \u001b[38;5;124;03m    Compute exp(x) as a fixed-point number. Works for any x,\u001b[39;00m\n\u001b[0;32m   1089\u001b[0m \u001b[38;5;124;03m    but for speed should have |x| < 1. For an arbitrary number,\u001b[39;00m\n\u001b[0;32m   1090\u001b[0m \u001b[38;5;124;03m    use exp(x) = exp(x-m*log(2)) * 2^m where m = floor(x/log(2)).\u001b[39;00m\n\u001b[0;32m   1091\u001b[0m \u001b[38;5;124;03m    \"\"\"\u001b[39;00m\n\u001b[0;32m   1092\u001b[0m     \u001b[38;5;28;01mif\u001b[39;00m prec \u001b[38;5;241m>\u001b[39m EXP_COSH_CUTOFF:\n",
      "\u001b[1;31mKeyboardInterrupt\u001b[0m: "
     ]
    }
   ],
   "source": [
    "%%time\n",
    "compute_epsilon_mp(sigma, q, comps, eps, eps_lower = eps_lower, eps_upper = eps_upper)"
   ]
  },
  {
   "cell_type": "markdown",
   "id": "ba2cded3",
   "metadata": {},
   "source": [
    "Running compute epsilon mp naivly yields a numerical error:"
   ]
  },
  {
   "cell_type": "code",
   "execution_count": 3,
   "id": "8fdc2afb",
   "metadata": {},
   "outputs": [
    {
     "name": "stdout",
     "output_type": "stream",
     "text": [
      "Unexpected exception formatting exception. Falling back to standard exception\n"
     ]
    },
    {
     "name": "stderr",
     "output_type": "stream",
     "text": [
      "Traceback (most recent call last):\n",
      "  File \"C:\\Users\\jug103\\spa_env\\lib\\site-packages\\IPython\\core\\magics\\execution.py\", line 1308, in time\n",
      "    out = eval(code, glob, local_ns)\n",
      "  File \"<timed eval>\", line 1, in <module>\n",
      "  File \"C:\\Users\\jug103\\Documents\\saddlepoint_accountant\\truth_accountant.py\", line 63, in compute_epsilon_mp\n",
      "  File \"C:\\Users\\jug103\\spa_env\\lib\\site-packages\\mpmath\\calculus\\optimization.py\", line 985, in findroot\n",
      "    raise ValueError('Could not find root within given tolerance. '\n",
      "ValueError: Could not find root within given tolerance. (3.5519724459270825626 > 2.16840434497100886801e-19)\n",
      "Try another starting point or tweak arguments.\n",
      "\n",
      "During handling of the above exception, another exception occurred:\n",
      "\n",
      "Traceback (most recent call last):\n",
      "  File \"C:\\Users\\jug103\\spa_env\\lib\\site-packages\\IPython\\core\\interactiveshell.py\", line 1993, in showtraceback\n",
      "    stb = self.InteractiveTB.structured_traceback(\n",
      "  File \"C:\\Users\\jug103\\spa_env\\lib\\site-packages\\IPython\\core\\ultratb.py\", line 1118, in structured_traceback\n",
      "    return FormattedTB.structured_traceback(\n",
      "  File \"C:\\Users\\jug103\\spa_env\\lib\\site-packages\\IPython\\core\\ultratb.py\", line 1012, in structured_traceback\n",
      "    return VerboseTB.structured_traceback(\n",
      "  File \"C:\\Users\\jug103\\spa_env\\lib\\site-packages\\IPython\\core\\ultratb.py\", line 865, in structured_traceback\n",
      "    formatted_exception = self.format_exception_as_a_whole(etype, evalue, etb, number_of_lines_of_context,\n",
      "  File \"C:\\Users\\jug103\\spa_env\\lib\\site-packages\\IPython\\core\\ultratb.py\", line 818, in format_exception_as_a_whole\n",
      "    frames.append(self.format_record(r))\n",
      "  File \"C:\\Users\\jug103\\spa_env\\lib\\site-packages\\IPython\\core\\ultratb.py\", line 736, in format_record\n",
      "    result += ''.join(_format_traceback_lines(frame_info.lines, Colors, self.has_colors, lvals))\n",
      "  File \"C:\\Users\\jug103\\spa_env\\lib\\site-packages\\stack_data\\utils.py\", line 145, in cached_property_wrapper\n",
      "    value = obj.__dict__[self.func.__name__] = self.func(obj)\n",
      "  File \"C:\\Users\\jug103\\spa_env\\lib\\site-packages\\stack_data\\core.py\", line 699, in lines\n",
      "    pieces = self.included_pieces\n",
      "  File \"C:\\Users\\jug103\\spa_env\\lib\\site-packages\\stack_data\\utils.py\", line 145, in cached_property_wrapper\n",
      "    value = obj.__dict__[self.func.__name__] = self.func(obj)\n",
      "  File \"C:\\Users\\jug103\\spa_env\\lib\\site-packages\\stack_data\\core.py\", line 647, in included_pieces\n",
      "    pos = scope_pieces.index(self.executing_piece)\n",
      "  File \"C:\\Users\\jug103\\spa_env\\lib\\site-packages\\stack_data\\utils.py\", line 145, in cached_property_wrapper\n",
      "    value = obj.__dict__[self.func.__name__] = self.func(obj)\n",
      "  File \"C:\\Users\\jug103\\spa_env\\lib\\site-packages\\stack_data\\core.py\", line 626, in executing_piece\n",
      "    return only(\n",
      "  File \"C:\\Users\\jug103\\spa_env\\lib\\site-packages\\executing\\executing.py\", line 164, in only\n",
      "    raise NotOneValueFound('Expected one value, found 0')\n",
      "executing.executing.NotOneValueFound: Expected one value, found 0\n"
     ]
    }
   ],
   "source": [
    "%%time\n",
    "compute_epsilon_mp(sigma, q, comps, eps)"
   ]
  },
  {
   "cell_type": "markdown",
   "id": "152e3111",
   "metadata": {},
   "source": [
    "## NO CHANGE IN DOING REAL PART FIRST OR SECOND. I THINK IT IS MARGINALLY FASTER AND MAKES MORE SENSE, SO WE WILL DO IT. \n",
    "\n",
    "For some reason doing the "
   ]
  },
  {
   "cell_type": "markdown",
   "id": "a309605b",
   "metadata": {},
   "source": [
    "Doing the original integral, i.e taking the complex integral, then taking the real part at the end "
   ]
  },
  {
   "cell_type": "code",
   "execution_count": 3,
   "id": "57fa4b96",
   "metadata": {},
   "outputs": [
    {
     "name": "stdout",
     "output_type": "stream",
     "text": [
      "(1.5009066223813e-11 + 0.0j)\n",
      "CPU times: total: 3min 28s\n",
      "Wall time: 3min 28s\n"
     ]
    },
    {
     "data": {
      "text/plain": [
       "mpf('1.9557570709204119e-12')"
      ]
     },
     "execution_count": 3,
     "metadata": {},
     "output_type": "execute_result"
    }
   ],
   "source": [
    "%%time\n",
    "compute_delta_mp(sigma, q, comps, eps)"
   ]
  },
  {
   "cell_type": "markdown",
   "id": "b420a906",
   "metadata": {},
   "source": [
    "Doing the more \"intelligent\" route of taking the real part first, then evaluating only the real integral:"
   ]
  },
  {
   "cell_type": "code",
   "execution_count": 4,
   "id": "e4c24b61",
   "metadata": {},
   "outputs": [
    {
     "name": "stdout",
     "output_type": "stream",
     "text": [
      "CPU times: total: 3min 25s\n",
      "Wall time: 3min 25s\n"
     ]
    },
    {
     "data": {
      "text/plain": [
       "mpf('1.9557570709204119e-12')"
      ]
     },
     "execution_count": 4,
     "metadata": {},
     "output_type": "execute_result"
    }
   ],
   "source": [
    "%%time\n",
    "compute_real_delta_mp(sigma, q, comps, eps)"
   ]
  },
  {
   "cell_type": "markdown",
   "id": "ebb215cc",
   "metadata": {},
   "source": [
    "Try doing the mpmath integral in PLRV space. May be fast or more accurate, idk. "
   ]
  },
  {
   "cell_type": "code",
   "execution_count": 3,
   "id": "fce721a4",
   "metadata": {},
   "outputs": [
    {
     "name": "stdout",
     "output_type": "stream",
     "text": [
      "CPU times: total: 22min 2s\n",
      "Wall time: 22min 3s\n"
     ]
    },
    {
     "data": {
      "text/plain": [
       "mpf('-6.7286420627037462e+24940')"
      ]
     },
     "execution_count": 3,
     "metadata": {},
     "output_type": "execute_result"
    }
   ],
   "source": [
    "%%time\n",
    "compute_plrv_delta_mp(sigma, q, comps, eps)"
   ]
  },
  {
   "cell_type": "markdown",
   "id": "d55be5a7",
   "metadata": {},
   "source": [
    "## CODE FOR PLRV PDF INTEGRAL\n",
    "\n",
    "IT IS WRONG SOMEHOW. NOT SURE WHY. DO NOT HAVE TIME TO CHECK IT"
   ]
  },
  {
   "cell_type": "code",
   "execution_count": null,
   "id": "8abaa6d3",
   "metadata": {},
   "outputs": [],
   "source": [
    "def log_p_mp(sigma, q, z):\n",
    "    '''\n",
    "    Log density of subsampled Gaussian PLRV at point z\n",
    "    '''\n",
    "\n",
    "    if mp.almosteq(z, mp.log(1-q)):\n",
    "        return -mp.inf\n",
    "    logA = mp.log(sigma) + (mp.log(q) - mp.log(2*mp.pi))/2 - 1/(8*sigma*sigma)\n",
    "    logg = mp.log( mp.exp(z) - 1 - q)\n",
    "    return logA + 2*z - mp.mpf('3/2')*logg - sigma*sigma/(2)*(logg-mp.log(q)) * (logg-mp.log(q))\n",
    "\n",
    "def new_compute_MGF(sigma,q,t):\n",
    "    \n",
    "    plrv_pdf = lambda l: log_p_mp(sigma,q,l)\n",
    "    integrand = lambda l: mp.exp(t * l + plrv_pdf(l))\n",
    "    bounds = (-mp.inf, mp.inf)\n",
    "    integral, _ = mp.quad( integrand, bounds, error = True, maxdegree = 8 )\n",
    "    return integral\n",
    "\n",
    "def compute_plrv_delta_mp(sigma, q, comp, eps, a = mp.mpf('0.1')):\n",
    "\n",
    "    def mgf(t): return new_compute_MGF(sigma,q, mp.mpc(a,t))\n",
    "\n",
    "    def g(t): return mp.power( mp.mpc(a + a*a - t*t, 2*a*t + t), -1)\n",
    "\n",
    "    bounds = (-mp.inf, mp.inf)\n",
    "    def integrand(t): return mp.re(mp.expj(-t*eps) * \\\n",
    "                                   mp.power(mgf(t),comp) * g(t))\n",
    "    integral, _ = mp.quad(integrand, bounds, error= True, maxdegree = 8)\n",
    "    return mp.exp(-a*eps) / two_pi * integral\n"
   ]
  }
 ],
 "metadata": {
  "kernelspec": {
   "display_name": "spa_env",
   "language": "python",
   "name": "spa_env"
  },
  "language_info": {
   "codemirror_mode": {
    "name": "ipython",
    "version": 3
   },
   "file_extension": ".py",
   "mimetype": "text/x-python",
   "name": "python",
   "nbconvert_exporter": "python",
   "pygments_lexer": "ipython3",
   "version": "3.10.4"
  }
 },
 "nbformat": 4,
 "nbformat_minor": 5
}
